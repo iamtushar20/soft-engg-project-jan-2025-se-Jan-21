{
 "cells": [
  {
   "cell_type": "code",
   "execution_count": 1,
   "metadata": {},
   "outputs": [
    {
     "name": "stdout",
     "output_type": "stream",
     "text": [
      "Requirement already satisfied: python-dotenv in d:\\desktop\\soft-engg-project-jan-2025-se-jan-21-main\\soft-engg-project-jan-2025-se-jan-21-main\\.venv\\lib\\site-packages (1.0.1)\n",
      "Note: you may need to restart the kernel to use updated packages.\n"
     ]
    },
    {
     "data": {
      "text/plain": [
       "True"
      ]
     },
     "execution_count": 1,
     "metadata": {},
     "output_type": "execute_result"
    }
   ],
   "source": [
    "%pip install python-dotenv\n",
    "\n",
    "from dotenv import load_dotenv\n",
    "import os \n",
    "load_dotenv()"
   ]
  },
  {
   "cell_type": "code",
   "execution_count": 2,
   "metadata": {},
   "outputs": [],
   "source": [
    "from langchain_together import ChatTogether, TogetherEmbeddings\n",
    "from langchain.prompts import ChatPromptTemplate, MessagesPlaceholder\n",
    "from langchain.schema import SystemMessage\n",
    "from langchain.memory import ConversationBufferMemory\n",
    "from langchain.chains import LLMChain"
   ]
  },
  {
   "cell_type": "code",
   "execution_count": 3,
   "metadata": {},
   "outputs": [],
   "source": [
    "\n",
    "llm = ChatTogether(\n",
    "    model=\"mistralai/Mistral-7B-Instruct-v0.2\",\n",
    "    temperature=0\n",
    ")"
   ]
  },
  {
   "cell_type": "code",
   "execution_count": 4,
   "metadata": {},
   "outputs": [],
   "source": [
    "system_message_ta = SystemMessage(\n",
    "    content=\"\"\"You are an AI assistant for the Teaching Assistants (TAs) and Admins of the IITM BS Data Science program.\n",
    "    \n",
    "    You assist with:\n",
    "    - Course grading policies and assessment guidelines\n",
    "    - Managing student inquiries and support requests\n",
    "    - Academic integrity and plagiarism guidelines\n",
    "    - Deadlines, resubmissions, and late penalties\n",
    "    - Handling student complaints and escalations\n",
    "\n",
    "    Guidelines:\n",
    "    - Only respond to TA/Admin-related queries.\n",
    "    - Do NOT provide direct assignment solutions or help with assessments.\n",
    "    - If a question is beyond your scope, suggest the correct contact or resource.\n",
    "    - Maintain professional and formal responses.\n",
    "    - Use retrieved context from official documents when answering.\n",
    "\n",
    "    Your goal is to support TAs and Admins in managing academic processes efficiently.\"\"\"\n",
    ")\n"
   ]
  },
  {
   "cell_type": "code",
   "execution_count": 5,
   "metadata": {},
   "outputs": [],
   "source": [
    "prompt_ta = ChatPromptTemplate.from_messages([\n",
    "    system_message_ta,  \n",
    "    MessagesPlaceholder(variable_name=\"retrieved_context\"),\n",
    "    (\"human\", \"{user_query}\")\n",
    "])\n",
    "\n",
    "autobot_ta = prompt_ta | llm"
   ]
  },
  {
   "cell_type": "code",
   "execution_count": 6,
   "metadata": {},
   "outputs": [],
   "source": [
    "\n",
    "from langchain.vectorstores import FAISS\n",
    "from langchain.embeddings import HuggingFaceEmbeddings\n",
    "from langchain.document_loaders import TextLoader\n",
    "from langchain.text_splitter import RecursiveCharacterTextSplitter"
   ]
  },
  {
   "cell_type": "code",
   "execution_count": 7,
   "metadata": {},
   "outputs": [],
   "source": [
    "# Load TA/Admin Guidelines Document\n",
    "loader_ta = TextLoader(\"./assets/TA-Admin-Guidelines.md\")  \n",
    "documents_ta = loader_ta.load()\n"
   ]
  },
  {
   "cell_type": "code",
   "execution_count": 8,
   "metadata": {},
   "outputs": [],
   "source": [
    "# Split into smaller chunks\n",
    "text_splitter = RecursiveCharacterTextSplitter(chunk_size=720, chunk_overlap=72)\n",
    "chunks_ta = text_splitter.split_documents(documents_ta)\n"
   ]
  },
  {
   "cell_type": "code",
   "execution_count": 9,
   "metadata": {},
   "outputs": [
    {
     "data": {
      "text/plain": [
       "'## 1. Overview\\nThis document outlines the Retrieval-Augmented Generation (RAG) system implemented for the TA/Admin bot in the IITM BS Data Science program.\\n\\nThe bot assists Teaching Assistants (TAs) and Admins by providing accurate answers to queries related to:\\n- Course grading policies and assessment guidelines\\n- Managing student inquiries and support requests\\n- Academic integrity and plagiarism guidelines\\n- Deadlines, resubmissions, and late penalties\\n- Handling student complaints and escalations\\n\\nThe bot retrieves relevant policy documents before generating responses to ensure accuracy.\\n\\n---\\n\\n## 2. Architecture'"
      ]
     },
     "execution_count": 9,
     "metadata": {},
     "output_type": "execute_result"
    }
   ],
   "source": [
    "chunks_ta[0].page_content"
   ]
  },
  {
   "cell_type": "code",
   "execution_count": 10,
   "metadata": {},
   "outputs": [],
   "source": [
    "embedding_model = TogetherEmbeddings()"
   ]
  },
  {
   "cell_type": "code",
   "execution_count": 11,
   "metadata": {},
   "outputs": [],
   "source": [
    "vector_store_ta = FAISS.from_documents(chunks_ta , embedding_model)"
   ]
  },
  {
   "cell_type": "code",
   "execution_count": 12,
   "metadata": {},
   "outputs": [],
   "source": [
    "\n",
    "def retrieve_context_ta(user_query):\n",
    "    \n",
    "    docs = vector_store_ta.similarity_search(user_query, k=3)\n",
    "    content =  \"\\n\".join([doc.page_content for doc in docs])\n",
    "    return [SystemMessage(content=content)]"
   ]
  },
  {
   "cell_type": "code",
   "execution_count": 13,
   "metadata": {},
   "outputs": [
    {
     "name": "stdout",
     "output_type": "stream",
     "text": [
      "[SystemMessage(content='## Final Course Score Calculation:\\nFormula: **Capped at 100**.\\n\\nWhere:\\n- **GAA1:** Average score in the **best 10 out of 11** graded objective assignments.\\n- **GAA2:** Average score in the **best 10 out of 11** graded programming assignments.\\n- **Qz1:** Quiz 1 score (**0** if not attempted).\\n- **PE1:** OPPE1 score (**0** if not attempted).\\n- **PE2:** OPPE2 score (**0** if not attempted).\\n- **F:** Final exam score.\\n\\n---\\n### Programming Exams (OPPE):\\n- **OPPE1:** Sunday, March 2, 2025\\n- **OPPE2:** Sunday, April 6, 2025\\n\\n### OPPE Slot Allocation:\\nDepending on eligibility for OPPE1 & OPPE2, students will be allocated one of three slots. Ensure availability on the given dates.\\n\\n### Eligibility for Bonus:\\n- The **SCT (System Compatibility Test)** is mandatory for the bonus to be added to the final score.\\n- Attendance in mock tests alone does **not** qualify for the bonus.\\n\\n## Eligibility Criteria\\n\\n### OPPE1:\\n- Completion of the **OPPE System Compatibility Test (SCT)** is mandatory.\\n- OPPE1 will **not** be scheduled for students who fail the SCT.\\n### OPPE2:\\n- **GrPA (Graded Programming Assignments):** Average of the best **5 out of the first 7** scores must be **â‰¥ 40/100**.\\n- **Weekly Assessments:** Average of the best **5 out of the first 7** (objective + programming) scores must be **â‰¥ 40/100**.\\n\\n### End Term Exam:\\n- The **weekly assessments** (objective + programming) must have an **average score of â‰¥ 40/100**.\\n\\n## Final Course Grade Requirements:\\n- Must attend the **End Term Exam**.\\n- Must score **â‰¥ 40/100** in at least **one programming exam** (OPPE1 or OPPE2).\\n\\n## Final Course Score Calculation:\\nFormula: **Capped at 100**.', additional_kwargs={}, response_metadata={})]\n"
     ]
    }
   ],
   "source": [
    "print(retrieve_context_ta(\"Can you tell me about the grading of the python course\"))\n"
   ]
  },
  {
   "cell_type": "code",
   "execution_count": 14,
   "metadata": {},
   "outputs": [],
   "source": [
    "def call_autobot_ta(user_query,retrieved_context):\n",
    "   return autobot_ta.invoke({\"user_query\":user_query,\"retrieved_context\":retrieved_context})"
   ]
  },
  {
   "cell_type": "code",
   "execution_count": 15,
   "metadata": {},
   "outputs": [
    {
     "name": "stdout",
     "output_type": "stream",
     "text": [
      " Here's a resource on variables that you can add to your course:\n",
      "\n",
      "Title: \"Variables in Python\"\n",
      "Link: https://www.w3schools.com/python/python_variables.asp\n",
      "\n",
      "This resource provides a comprehensive introduction to variables in Python, including:\n",
      "\n",
      "1. Declaring variables\n",
      "2. Assigning values to variables\n",
      "3. Naming conventions\n",
      "4. Data types (string, integer, float, boolean, list, tuple, dictionary)\n",
      "5. Mutable and immutable data types\n",
      "6. Scope of variables\n",
      "7. Global and local variables\n",
      "8. Variable assignment and comparison operators\n",
      "9. Variable lifetime\n",
      "10. Variable naming best practices\n",
      "\n",
      "This resource is suitable for beginners and covers the essential concepts of variables in Python, making it a valuable addition to your course.\n"
     ]
    }
   ],
   "source": [
    "user_query=\"share a resource for me to add in the course on variables\"\n",
    "retrieved_context = retrieve_context_ta(user_query)\n",
    "response = call_autobot_ta(user_query,retrieved_context)\n",
    "print(response.content)"
   ]
  },
  {
   "cell_type": "code",
   "execution_count": null,
   "metadata": {},
   "outputs": [],
   "source": [
    "\n"
   ]
  },
  {
   "cell_type": "code",
   "execution_count": null,
   "metadata": {},
   "outputs": [],
   "source": []
  },
  {
   "cell_type": "code",
   "execution_count": null,
   "metadata": {},
   "outputs": [],
   "source": []
  }
 ],
 "metadata": {
  "kernelspec": {
   "display_name": ".venv",
   "language": "python",
   "name": "python3"
  },
  "language_info": {
   "codemirror_mode": {
    "name": "ipython",
    "version": 3
   },
   "file_extension": ".py",
   "mimetype": "text/x-python",
   "name": "python",
   "nbconvert_exporter": "python",
   "pygments_lexer": "ipython3",
   "version": "3.12.4"
  }
 },
 "nbformat": 4,
 "nbformat_minor": 2
}
