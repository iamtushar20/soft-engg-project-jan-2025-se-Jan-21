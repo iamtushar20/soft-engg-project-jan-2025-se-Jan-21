{
 "cells": [
  {
   "cell_type": "code",
   "execution_count": null,
   "metadata": {},
   "outputs": [],
   "source": [
    "%pip install python-dotenv\n",
    "from dotenv import load_dotenv\n",
    "import os \n",
    "load_dotenv()"
   ]
  },
  {
   "cell_type": "code",
   "execution_count": null,
   "metadata": {},
   "outputs": [],
   "source": [
    "%pip install langchain\n",
    "%pip install langchain_together"
   ]
  },
  {
   "cell_type": "code",
   "execution_count": null,
   "metadata": {},
   "outputs": [],
   "source": [
    "\n",
    "from langchain_together import ChatTogether, TogetherEmbeddings\n",
    "from langchain.prompts import ChatPromptTemplate, MessagesPlaceholder\n",
    "from langchain.schema import SystemMessage\n",
    "from langchain.memory import ConversationBufferMemory\n",
    "from langchain.chains import LLMChain\n"
   ]
  },
  {
   "cell_type": "code",
   "execution_count": null,
   "metadata": {},
   "outputs": [],
   "source": [
    "\n",
    "llm = ChatTogether(\n",
    "    model=\"deepseek-ai/DeepSeek-V3\",\n",
    "    temperature=0,\n",
    "    streaming=True,\n",
    ")\n"
   ]
  },
  {
   "cell_type": "code",
   "execution_count": null,
   "metadata": {},
   "outputs": [],
   "source": [
    "system_message = SystemMessage(\n",
    "    content=\"\"\"You are Autobot, an IITM BS degree virtual assistant designed to help students navigate the BS Data Science program.  \n",
    "\n",
    "    Your role is to:  \n",
    "    - Assist students with understanding course concepts and guidelines.  \n",
    "    - Provide explanations, hints, and study strategies without giving direct answers.  \n",
    "    - Help students locate relevant sections in their course materials.  \n",
    "    - Encourage academic integrity by guiding students toward self-learning.  \n",
    "\n",
    "    **Guidelines:**  \n",
    "    - DO NOT provide direct answers to assignments, quizzes, or exams.  \n",
    "    - DO NOT generate or suggest additional resources—only the TA or instructor bot can do that.  \n",
    "    - Use only the retrieved context to answer questions. If the information is unavailable, say, \"I don't have that information.\"  \n",
    "    - If a student asks for a resource, politely inform them that TAs or instructors can provide those.  \n",
    "    - Maintain a professional yet supportive tone to encourage learning.  \n",
    "\n",
    "    Your goal is to **assist students in learning while maintaining academic integrity**.  \n",
    "    \"\"\"\n",
    ")\n"
   ]
  },
  {
   "cell_type": "code",
   "execution_count": null,
   "metadata": {},
   "outputs": [],
   "source": [
    "prompt = ChatPromptTemplate.from_messages([\n",
    "    system_message,  # System prompt\n",
    "    MessagesPlaceholder(variable_name=\"retrieved_context\"),\n",
    "    (\"human\", \"{user_query}\") \n",
    "])"
   ]
  },
  {
   "cell_type": "code",
   "execution_count": null,
   "metadata": {},
   "outputs": [],
   "source": [
    "prompt"
   ]
  },
  {
   "cell_type": "code",
   "execution_count": null,
   "metadata": {},
   "outputs": [],
   "source": [
    "autobot = prompt | llm"
   ]
  },
  {
   "cell_type": "code",
   "execution_count": null,
   "metadata": {},
   "outputs": [],
   "source": [
    "%pip install -U langchain-community"
   ]
  },
  {
   "cell_type": "code",
   "execution_count": null,
   "metadata": {},
   "outputs": [],
   "source": [
    "\n",
    "from langchain.vectorstores import FAISS\n",
    "from langchain.embeddings import HuggingFaceEmbeddings\n",
    "from langchain.document_loaders import TextLoader\n",
    "from langchain.text_splitter import RecursiveCharacterTextSplitter"
   ]
  },
  {
   "cell_type": "code",
   "execution_count": null,
   "metadata": {},
   "outputs": [],
   "source": [
    "loader = TextLoader(\"./assets/Intro-to-python.md\")\n",
    "documents = loader.load()\n",
    "\n"
   ]
  },
  {
   "cell_type": "code",
   "execution_count": null,
   "metadata": {},
   "outputs": [],
   "source": [
    "text_splitter = RecursiveCharacterTextSplitter(\n",
    "    chunk_size = 720 , chunk_overlap = 72\n",
    ")\n",
    "chunks = text_splitter.split_documents(documents)"
   ]
  },
  {
   "cell_type": "code",
   "execution_count": null,
   "metadata": {},
   "outputs": [],
   "source": [
    "chunks[0].page_content"
   ]
  },
  {
   "cell_type": "code",
   "execution_count": null,
   "metadata": {},
   "outputs": [],
   "source": [
    "embedding_model = TogetherEmbeddings()"
   ]
  },
  {
   "cell_type": "code",
   "execution_count": null,
   "metadata": {},
   "outputs": [],
   "source": [
    "vector_store = FAISS.from_documents(chunks , embedding_model)"
   ]
  },
  {
   "cell_type": "code",
   "execution_count": null,
   "metadata": {},
   "outputs": [],
   "source": [
    "\n",
    "def reterive_context(user_query):\n",
    "    \n",
    "    docs = vector_store.similarity_search(user_query, k=3)\n",
    "    content =  \"\\n\".join([doc.page_content for doc in docs])\n",
    "    return [SystemMessage(content=content)]\n"
   ]
  },
  {
   "cell_type": "code",
   "execution_count": null,
   "metadata": {},
   "outputs": [],
   "source": [
    "print(reterive_context(\"Can you tell me about the grading of the python course\"))"
   ]
  },
  {
   "cell_type": "code",
   "execution_count": null,
   "metadata": {},
   "outputs": [],
   "source": [
    "def call_autobot(user_query,reterived_context):\n",
    "   return autobot.invoke({\"user_query\":user_query,\"retrieved_context\":reterived_context})\n",
    "    "
   ]
  },
  {
   "cell_type": "code",
   "execution_count": null,
   "metadata": {},
   "outputs": [],
   "source": [
    "user_query=\"i have scored 80 in quiz 1, 67 in oppe1, 89 in oppe 2, and the assignment score is 100. i am expecting around 75 in the final exam. what should be my grade?\"\n",
    "reterived_context = reterive_context(user_query)\n",
    "response = call_autobot(user_query,reterived_context)\n",
    "print(response.content)"
   ]
  },
  {
   "cell_type": "code",
   "execution_count": null,
   "metadata": {},
   "outputs": [],
   "source": []
  }
 ],
 "metadata": {
  "kernelspec": {
   "display_name": ".venv",
   "language": "python",
   "name": "python3"
  },
  "language_info": {
   "codemirror_mode": {
    "name": "ipython",
    "version": 3
   },
   "file_extension": ".py",
   "mimetype": "text/x-python",
   "name": "python",
   "nbconvert_exporter": "python",
   "pygments_lexer": "ipython3",
   "version": "3.12.4"
  }
 },
 "nbformat": 4,
 "nbformat_minor": 2
}
